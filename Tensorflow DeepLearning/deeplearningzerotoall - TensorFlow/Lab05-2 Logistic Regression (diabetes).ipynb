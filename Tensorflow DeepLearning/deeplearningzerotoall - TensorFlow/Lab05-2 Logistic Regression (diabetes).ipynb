{
 "cells": [
  {
   "cell_type": "markdown",
   "metadata": {},
   "source": [
    "# 모두를 위한 딥러닝 시즌2 - TensorFlow\n",
    "\n",
    "## LAB05-1 - Logistic Regression (Diabetes)"
   ]
  },
  {
   "cell_type": "markdown",
   "metadata": {},
   "source": [
    "Logistic Classification을 diabetes data를 활용해 모델을 만들어보기!"
   ]
  },
  {
   "cell_type": "code",
   "execution_count": 16,
   "metadata": {},
   "outputs": [
    {
     "name": "stdout",
     "output_type": "stream",
     "text": [
      "2.5.0\n"
     ]
    }
   ],
   "source": [
    "import numpy as np\n",
    "import tensorflow as tf\n",
    "import matplotlib.pyplot as plt\n",
    "%matplotlib inline\n",
    "\n",
    "tf.compat.v1.enable_eager_execution()\n",
    "tf.random.set_seed(777)\n",
    "print(tf.__version__)"
   ]
  },
  {
   "cell_type": "code",
   "execution_count": 17,
   "metadata": {},
   "outputs": [
    {
     "name": "stdout",
     "output_type": "stream",
     "text": [
      "(759, 8) (759, 1)\n",
      "[[-0.294118   0.487437   0.180328  ... -0.53117   -0.0333333  0.       ]\n",
      " [-0.882353  -0.145729   0.0819672 ... -0.766866  -0.666667   1.       ]\n",
      " [-0.0588235  0.839196   0.0491803 ... -0.492741  -0.633333   0.       ]\n",
      " ...\n",
      " [-0.411765   0.21608    0.180328  ... -0.857387  -0.7        1.       ]\n",
      " [-0.882353   0.266332  -0.0163934 ... -0.768574  -0.133333   0.       ]\n",
      " [-0.882353  -0.0653266  0.147541  ... -0.797609  -0.933333   1.       ]]\n"
     ]
    }
   ],
   "source": [
    "#dataset\n",
    "xy = np.loadtxt('data_diabetes.csv', delimiter=',',dtype = np.float32)\n",
    "x_train = xy[:,0:-1]\n",
    "y_train = xy[:,[-1]]\n",
    "\n",
    "print(x_train.shape, y_train.shape)\n",
    "print(xy)"
   ]
  },
  {
   "cell_type": "markdown",
   "metadata": {},
   "source": [
    "### 위 data를 기준으로 가설 검증을 통해 Logistic Classification 모델 만들기"
   ]
  },
  {
   "cell_type": "code",
   "execution_count": 18,
   "metadata": {},
   "outputs": [],
   "source": [
    "#batch 사이즈는 한 번에 학습시킬 사이즈로 정하기\n",
    "dataset = tf.data.Dataset.from_tensor_slices((x_train, y_train)).batch(len(x_train))"
   ]
  },
  {
   "cell_type": "code",
   "execution_count": 19,
   "metadata": {},
   "outputs": [],
   "source": [
    "#초기값을 variable 0 혹은 random값으로 설정 가능하기에 0값으로 설정함.\n",
    "W = tf.Variable(tf.zeros([8,1]), name='weight')\n",
    "b = tf.Variable(tf.zeros([1]),name = 'bias')"
   ]
  },
  {
   "cell_type": "markdown",
   "metadata": {},
   "source": [
    "### sigmoid 함수를 가설로 선언\n",
    "- sigmoid는 0과 1의 값만을 리턴   \n",
    "tf.sigmoid(tf.matmul(X,W)+b)"
   ]
  },
  {
   "cell_type": "code",
   "execution_count": 20,
   "metadata": {},
   "outputs": [],
   "source": [
    "def logistic_regression(features):\n",
    "    hypothesis  = tf.divide(1., 1. + tf.exp(tf.matmul(features, W) + b))\n",
    "    return hypothesis"
   ]
  },
  {
   "cell_type": "markdown",
   "metadata": {},
   "source": [
    "### 가설을 검증할 Cost 함수를 정의\n"
   ]
  },
  {
   "cell_type": "code",
   "execution_count": 25,
   "metadata": {},
   "outputs": [],
   "source": [
    "def loss_fn(hypothesis, features, labels):\n",
    "    cost = -tf.reduce_mean(labels * tf.math.log(logistic_regression(features)) + (1 - labels) * tf.math.log(1 - hypothesis))\n",
    "    return cost\n",
    "\n",
    "optimizer = tf.keras.optimizers.SGD(learning_rate=0.01)"
   ]
  },
  {
   "cell_type": "markdown",
   "metadata": {},
   "source": [
    "### 추론한 값은 0.5를 기준으로 0과 1의 값을 리턴\n",
    "- sigmoid 함수를 통해 예측값이 0.5보다 크면 1을 반환하고 0.5보다 작으면 0을 반환\n",
    "- 가설을 통해 실제 값과 비교한 정확도 측정\n",
    "\n",
    "tf.cast: 텐서를 새로운 형태로 캐스팅하는 데 사용.   \n",
    "tf.equal : 두 텐서의 원소를 비교해 boolean 값 출력"
   ]
  },
  {
   "cell_type": "code",
   "execution_count": 26,
   "metadata": {},
   "outputs": [],
   "source": [
    "def accuracy_fn(hypothesis, labels):\n",
    "    predicted = tf.cast(hypothesis > 0.5, dtype=tf.float32) #tf.cast 메서드를 이용해 0.5보다 큰 hypothesis를 입력값으로 받고 이를 float형태로 바꿔줌.\n",
    "    accuracy = tf.reduce_mean(tf.cast(tf.equal(predicted, labels), dtype=tf.int32))\n",
    "    return accuracy"
   ]
  },
  {
   "cell_type": "markdown",
   "metadata": {},
   "source": [
    "### GradientTape을 통해 경사값 계산"
   ]
  },
  {
   "cell_type": "code",
   "execution_count": 27,
   "metadata": {},
   "outputs": [],
   "source": [
    "def grad(hypothesis, features, labels):\n",
    "    with tf.GradientTape() as tape:\n",
    "        loss_value = loss_fn(logistic_regression(features),features, labels)\n",
    "    return tape.gradient(loss_value, [W,b])"
   ]
  },
  {
   "cell_type": "markdown",
   "metadata": {},
   "source": [
    "### Tensorflow를 통한 실행을 위해 Session를 선언\n",
    "\n",
    "Session 선언??\n",
    "텐서플로우는 방향 그래프를 기반으로 해 설계된 기계학습 라이브러리.   \n",
    "우리가 tf.add()등의 수행한 명령어는 흐름이 있는 그래프를 정의한 것이고 실제로 연산을 수행한 것이 아님.   \n",
    "데이터를 넣어 흐름이 이루어지도록 만들어야 하고 이런 동작을 Session이 수행.\n",
    "- 위의 Data를 cost 함수를 통해 학습시킨 후 모델 생성"
   ]
  },
  {
   "cell_type": "code",
   "execution_count": 28,
   "metadata": {},
   "outputs": [
    {
     "name": "stdout",
     "output_type": "stream",
     "text": [
      "Iter:0, Loss:0.6924\n",
      "Iter:100, Loss:0.6456\n",
      "Iter:200, Loss:0.6252\n",
      "Iter:300, Loss:0.6138\n",
      "Iter:400, Loss:0.6057\n",
      "Iter:500, Loss:0.5991\n",
      "Iter:600, Loss:0.5932\n",
      "Iter:700, Loss:0.5877\n",
      "Iter:800, Loss:0.5826\n",
      "Iter:900, Loss:0.5779\n",
      "Iter:1000, Loss:0.5734\n"
     ]
    }
   ],
   "source": [
    "EPOCHS = 1000\n",
    "for step in range(EPOCHS+1):\n",
    "    for features, labels in iter(dataset):\n",
    "        grads = grad(logistic_regression(features), features, labels)\n",
    "        optimizer.apply_gradients(grads_and_vars=zip(grads, [W,b]))\n",
    "        if step%100 ==0:\n",
    "            print(\"Iter:{}, Loss:{:.4f}\".format(step, loss_fn(logistic_regression(features),features, labels)))"
   ]
  },
  {
   "cell_type": "code",
   "execution_count": null,
   "metadata": {},
   "outputs": [],
   "source": []
  }
 ],
 "metadata": {
  "kernelspec": {
   "display_name": "Python 3",
   "language": "python",
   "name": "python3"
  },
  "language_info": {
   "codemirror_mode": {
    "name": "ipython",
    "version": 3
   },
   "file_extension": ".py",
   "mimetype": "text/x-python",
   "name": "python",
   "nbconvert_exporter": "python",
   "pygments_lexer": "ipython3",
   "version": "3.8.5"
  }
 },
 "nbformat": 4,
 "nbformat_minor": 4
}
