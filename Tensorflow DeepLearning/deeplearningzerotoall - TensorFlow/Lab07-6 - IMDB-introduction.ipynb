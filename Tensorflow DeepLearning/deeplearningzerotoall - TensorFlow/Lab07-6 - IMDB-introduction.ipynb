{
 "cells": [
  {
   "cell_type": "markdown",
   "metadata": {},
   "source": [
    "# 모두를 위한 딥러닝 시즌2 - TensorFlow\n",
    "\n",
    "## LAB07-6 - IMDB-introduction\n",
    "\n",
    "CUAI 강민기"
   ]
  },
  {
   "cell_type": "markdown",
   "metadata": {},
   "source": [
    "### IMDB 분류 모델 생성 "
   ]
  },
  {
   "cell_type": "code",
   "execution_count": 18,
   "metadata": {},
   "outputs": [
    {
     "name": "stdout",
     "output_type": "stream",
     "text": [
      "2.5.0\n"
     ]
    }
   ],
   "source": [
    "import numpy as np\n",
    "import tensorflow as tf\n",
    "from tensorflow import keras\n",
    "\n",
    "tf.random.set_seed(777)\n",
    "print(tf.__version__)"
   ]
  },
  {
   "cell_type": "markdown",
   "metadata": {},
   "source": [
    "### 학습에 쓰이는 Data\n",
    "=50000 movie review from the Internet Movie Database (10000개의 빈도수가 높은 단어를 학습시 Vector에 사용)\n",
    "\n",
    "*리뷰텍스트는 어휘 사전의 특정 단어를 나타내는 정수로 변환되어 있음.*"
   ]
  },
  {
   "cell_type": "code",
   "execution_count": 19,
   "metadata": {},
   "outputs": [
    {
     "name": "stderr",
     "output_type": "stream",
     "text": [
      "<__array_function__ internals>:5: VisibleDeprecationWarning: Creating an ndarray from ragged nested sequences (which is a list-or-tuple of lists-or-tuples-or ndarrays with different lengths or shapes) is deprecated. If you meant to do this, you must specify 'dtype=object' when creating the ndarray\n",
      "C:\\anan\\lib\\site-packages\\tensorflow\\python\\keras\\datasets\\imdb.py:155: VisibleDeprecationWarning: Creating an ndarray from ragged nested sequences (which is a list-or-tuple of lists-or-tuples-or ndarrays with different lengths or shapes) is deprecated. If you meant to do this, you must specify 'dtype=object' when creating the ndarray\n",
      "  x_train, y_train = np.array(xs[:idx]), np.array(labels[:idx])\n"
     ]
    },
    {
     "name": "stdout",
     "output_type": "stream",
     "text": [
      "Training entries : 25000, labels : 25000\n",
      "[1, 14, 22, 16, 43, 530, 973, 1622, 1385, 65, 458, 4468, 66, 3941, 4, 173, 36, 256, 5, 25, 100, 43, 838, 112, 50, 670, 2, 9, 35, 480, 284, 5, 150, 4, 172, 112, 167, 2, 336, 385, 39, 4, 172, 4536, 1111, 17, 546, 38, 13, 447, 4, 192, 50, 16, 6, 147, 2025, 19, 14, 22, 4, 1920, 4613, 469, 4, 22, 71, 87, 12, 16, 43, 530, 38, 76, 15, 13, 1247, 4, 22, 17, 515, 17, 12, 16, 626, 18, 2, 5, 62, 386, 12, 8, 316, 8, 106, 5, 4, 2223, 5244, 16, 480, 66, 3785, 33, 4, 130, 12, 16, 38, 619, 5, 25, 124, 51, 36, 135, 48, 25, 1415, 33, 6, 22, 12, 215, 28, 77, 52, 5, 14, 407, 16, 82, 2, 8, 4, 107, 117, 5952, 15, 256, 4, 2, 7, 3766, 5, 723, 36, 71, 43, 530, 476, 26, 400, 317, 46, 7, 4, 2, 1029, 13, 104, 88, 4, 381, 15, 297, 98, 32, 2071, 56, 26, 141, 6, 194, 7486, 18, 4, 226, 22, 21, 134, 476, 26, 480, 5, 144, 30, 5535, 18, 51, 36, 28, 224, 92, 25, 104, 4, 226, 65, 16, 38, 1334, 88, 12, 16, 283, 5, 16, 4472, 113, 103, 32, 15, 16, 5345, 19, 178, 32]\n"
     ]
    },
    {
     "name": "stderr",
     "output_type": "stream",
     "text": [
      "C:\\anan\\lib\\site-packages\\tensorflow\\python\\keras\\datasets\\imdb.py:156: VisibleDeprecationWarning: Creating an ndarray from ragged nested sequences (which is a list-or-tuple of lists-or-tuples-or ndarrays with different lengths or shapes) is deprecated. If you meant to do this, you must specify 'dtype=object' when creating the ndarray\n",
      "  x_test, y_test = np.array(xs[idx:]), np.array(labels[idx:])\n"
     ]
    }
   ],
   "source": [
    "imdb = keras.datasets.imdb\n",
    "(train_data, train_labels), (test_data, test_labels) = imdb.load_data(num_words=10000)#num_words=10000 : 훈련데이터에서 가장 많이 등장하는 상위 100000개의 단어 선택\n",
    "print(\"Training entries : {}, labels : {}\".format(len(train_data),len(train_labels)))\n",
    "print(train_data[0])"
   ]
  },
  {
   "cell_type": "markdown",
   "metadata": {},
   "source": [
    "#### IMDB Data를 Vector을 실재 값으로 변환해 출력\n",
    "\n",
    "정수를 단어로 다시 변환한다.   \n",
    ": 정수와 문자열을 매핑한 딕셔너리 객체에 질의하는 헬퍼 함수를 만들기"
   ]
  },
  {
   "cell_type": "code",
   "execution_count": 20,
   "metadata": {},
   "outputs": [
    {
     "data": {
      "text/plain": [
       "\"<START> worst mistake of my life br br i picked this movie up at target for 5 because i figured hey it's sandler i can get some cheap laughs i was wrong completely wrong mid way through the film all three of my friends were asleep and i was still suffering worst plot worst script worst movie i have ever seen i wanted to hit my head up against a wall for an hour then i'd stop and you know why because it felt damn good upon bashing my head in i stuck that damn movie in the <UNK> and watched it burn and that felt better than anything else i've ever done it took american psycho army of darkness and kill bill just to get over that crap i hate you sandler for actually going through with this and ruining a whole day of my life\""
      ]
     },
     "execution_count": 20,
     "metadata": {},
     "output_type": "execute_result"
    }
   ],
   "source": [
    "#단어와 정수 인덱스를 매핑한 딕셔너리\n",
    "word_index = imdb.get_word_index()\n",
    "\n",
    "word_index = {k:(v+3) for k,v in word_index.items()}\n",
    "word_index[\"<PAD>\"]=0\n",
    "word_index[\"<START>\"]=1\n",
    "word_index[\"<UNK>\"]=2 #unknow이란 뜻\n",
    "word_index[\"<UNUSED>\"]=3\n",
    "\n",
    "reverse_word_index = dict([(value, key) for (key, value) in word_index.items()])\n",
    "\n",
    "def decode_review(text):\n",
    "    return ' '.join([reverse_word_index.get(i,'?') for i in text])\n",
    "\n",
    "decode_review(train_data[4])"
   ]
  },
  {
   "cell_type": "code",
   "execution_count": 21,
   "metadata": {},
   "outputs": [
    {
     "name": "stdout",
     "output_type": "stream",
     "text": [
      "0\n"
     ]
    }
   ],
   "source": [
    "print(train_labels[4])"
   ]
  },
  {
   "cell_type": "markdown",
   "metadata": {},
   "source": [
    "### Tensorflow Keras\n",
    "위 Data를 기준으로 분류 모델을 만들기\n",
    "- 학습과 평가를 위해 동일길이인 256길이의 단어로 PAD 값을 주어 맞춰줌(뒤의 길이는 0값으로 맞춰줌!)\n",
    "\n",
    "*데이터 준비: 리뷰-정수 배열은 신경망에 주입 전 텐서로 변환되어야 함.*   \n",
    "*그리고 신경망의 입력은 영화리뷰의 길이가 같아야 한다. 변환 방법은 두가지가 있고*\n",
    "1. 원-핫 인코딩 : 정수배열을 0, 1로 이루어진 벡터로 변환\n",
    "2. 정수 배열의 길이가 모두 같도록 padding을 추가해 max_length*num_reviews 크기의 정수 텐서를 만듦.\n"
   ]
  },
  {
   "cell_type": "code",
   "execution_count": 22,
   "metadata": {},
   "outputs": [
    {
     "name": "stdout",
     "output_type": "stream",
     "text": [
      "256 256\n",
      "[   1   14   22   16   43  530  973 1622 1385   65  458 4468   66 3941\n",
      "    4  173   36  256    5   25  100   43  838  112   50  670    2    9\n",
      "   35  480  284    5  150    4  172  112  167    2  336  385   39    4\n",
      "  172 4536 1111   17  546   38   13  447    4  192   50   16    6  147\n",
      " 2025   19   14   22    4 1920 4613  469    4   22   71   87   12   16\n",
      "   43  530   38   76   15   13 1247    4   22   17  515   17   12   16\n",
      "  626   18    2    5   62  386   12    8  316    8  106    5    4 2223\n",
      " 5244   16  480   66 3785   33    4  130   12   16   38  619    5   25\n",
      "  124   51   36  135   48   25 1415   33    6   22   12  215   28   77\n",
      "   52    5   14  407   16   82    2    8    4  107  117 5952   15  256\n",
      "    4    2    7 3766    5  723   36   71   43  530  476   26  400  317\n",
      "   46    7    4    2 1029   13  104   88    4  381   15  297   98   32\n",
      " 2071   56   26  141    6  194 7486   18    4  226   22   21  134  476\n",
      "   26  480    5  144   30 5535   18   51   36   28  224   92   25  104\n",
      "    4  226   65   16   38 1334   88   12   16  283    5   16 4472  113\n",
      "  103   32   15   16 5345   19  178   32    0    0    0    0    0    0\n",
      "    0    0    0    0    0    0    0    0    0    0    0    0    0    0\n",
      "    0    0    0    0    0    0    0    0    0    0    0    0    0    0\n",
      "    0    0    0    0]\n"
     ]
    }
   ],
   "source": [
    "train_data = keras.preprocessing.sequence.pad_sequences(train_data,\n",
    "                                                       value = word_index[\"<PAD>\"],\n",
    "                                                       padding = 'post',\n",
    "                                                       maxlen=256)\n",
    "test_data = keras.preprocessing.sequence.pad_sequences(test_data,\n",
    "                                                      value=word_index[\"<PAD>\"],\n",
    "                                                      padding='post',\n",
    "                                                      maxlen=256)\n",
    "print(len(train_data[0]), len(test_data[0]))\n",
    "print(train_data[0]) #패딩된 첫 번째 리뷰 내용 확인"
   ]
  },
  {
   "cell_type": "markdown",
   "metadata": {},
   "source": [
    "### 모델 구성\n",
    "\n",
    "\n",
    "- Tensorflow Keras API를 통해 모델에 대한 정의\n",
    "- 입력 SIZE와 학습시킬 Layer의 크기와 Activation Function에 대한 정의\n",
    "\n",
    "1) 모델에서 얼마나 많은 층을 사용할 것인지   \n",
    "2) 각 층에서 얼마나 많은 은닉 유닛을 사용할 것인지 결정!   \n",
    "입력 데이터가 단어 인덱스의 배열, 예측할 레이블은 0또는 1."
   ]
  },
  {
   "cell_type": "markdown",
   "metadata": {},
   "source": [
    "1. 첫 번째 층 : 임베딩 층 : 정수로 인코딩된 단어를 입력 받고 각 단어 인데스에 해당하는 임베딩 벡터찾기   \n",
    "2. 두 번째 층 : GlobalAveragePooling1D 층: sequence 차원에 대해 평균을 계산해 각 샘플에 대해 고정된 길이의 출력 벡터를 반환   \n",
    "3. 세 번째 층 : 완전 연결층   \n",
    "4. 네 번째 층 : 하나의 출력노드를 가진 완전 연결층 : sigmoid 함수 이용해 0,1 사이의 실수 출력"
   ]
  },
  {
   "cell_type": "code",
   "execution_count": 23,
   "metadata": {},
   "outputs": [
    {
     "name": "stdout",
     "output_type": "stream",
     "text": [
      "Model: \"sequential_3\"\n",
      "_________________________________________________________________\n",
      "Layer (type)                 Output Shape              Param #   \n",
      "=================================================================\n",
      "embedding_3 (Embedding)      (None, None, 16)          160000    \n",
      "_________________________________________________________________\n",
      "global_average_pooling1d_3 ( (None, 16)                0         \n",
      "_________________________________________________________________\n",
      "dense_6 (Dense)              (None, 16)                272       \n",
      "_________________________________________________________________\n",
      "dense_7 (Dense)              (None, 1)                 17        \n",
      "=================================================================\n",
      "Total params: 160,289\n",
      "Trainable params: 160,289\n",
      "Non-trainable params: 0\n",
      "_________________________________________________________________\n"
     ]
    }
   ],
   "source": [
    "#입력 크기: 영화 리뷰 데이터셋에 적용된 어퓌 사전의 크기\n",
    "vocab_size = 10000\n",
    "\n",
    "model = keras.Sequential()\n",
    "model.add(keras.layers.Embedding(vocab_size, 16))\n",
    "model.add(keras.layers.GlobalAveragePooling1D())\n",
    "model.add(keras.layers.Dense(16, activation=tf.nn.relu))\n",
    "model.add(keras.layers.Dense(1,activation=tf.nn.sigmoid))\n",
    "\n",
    "model.summary()"
   ]
  },
  {
   "cell_type": "markdown",
   "metadata": {},
   "source": [
    "- Adam Optimizer과 Cross Entropy Loss 선언"
   ]
  },
  {
   "cell_type": "code",
   "execution_count": 24,
   "metadata": {},
   "outputs": [],
   "source": [
    "model.compile(optimizer='adam',\n",
    "             loss = 'binary_crossentropy', #batch_crossentropy 손실함수 사용\n",
    "             metrics=['accuracy'])"
   ]
  },
  {
   "cell_type": "markdown",
   "metadata": {},
   "source": [
    "### 검증 세트 만들기\n",
    "- 모델을 평가할 Test 데이터에 대한 정의 (10000을 기준으로 학습과 평가 수행)\n"
   ]
  },
  {
   "cell_type": "code",
   "execution_count": 25,
   "metadata": {},
   "outputs": [],
   "source": [
    "x_val = train_data[:10000]\n",
    "partial_x_train = train_data[10000:]\n",
    "\n",
    "y_val = train_labels[:10000]\n",
    "partial_y_train = train_labels[10000:]"
   ]
  },
  {
   "cell_type": "markdown",
   "metadata": {},
   "source": [
    "### 모델 훈련\n",
    "모델을 미니배치(512개의 샘플로 이루어진)에서 40번 에포크동안 훈련"
   ]
  },
  {
   "cell_type": "code",
   "execution_count": 26,
   "metadata": {},
   "outputs": [
    {
     "name": "stdout",
     "output_type": "stream",
     "text": [
      "Epoch 1/40\n",
      "30/30 [==============================] - 1s 18ms/step - loss: 0.6923 - accuracy: 0.5355 - val_loss: 0.6906 - val_accuracy: 0.6589\n",
      "Epoch 2/40\n",
      "30/30 [==============================] - 0s 16ms/step - loss: 0.6873 - accuracy: 0.7129 - val_loss: 0.6835 - val_accuracy: 0.7414\n",
      "Epoch 3/40\n",
      "30/30 [==============================] - 0s 15ms/step - loss: 0.6762 - accuracy: 0.7564 - val_loss: 0.6693 - val_accuracy: 0.7444\n",
      "Epoch 4/40\n",
      "30/30 [==============================] - 0s 14ms/step - loss: 0.6561 - accuracy: 0.7729 - val_loss: 0.6461 - val_accuracy: 0.7646\n",
      "Epoch 5/40\n",
      "30/30 [==============================] - 0s 15ms/step - loss: 0.6255 - accuracy: 0.7867 - val_loss: 0.6132 - val_accuracy: 0.7778\n",
      "Epoch 6/40\n",
      "30/30 [==============================] - 0s 16ms/step - loss: 0.5856 - accuracy: 0.8049 - val_loss: 0.5741 - val_accuracy: 0.7979\n",
      "Epoch 7/40\n",
      "30/30 [==============================] - 0s 16ms/step - loss: 0.5397 - accuracy: 0.8227 - val_loss: 0.5312 - val_accuracy: 0.8146\n",
      "Epoch 8/40\n",
      "30/30 [==============================] - 1s 17ms/step - loss: 0.4931 - accuracy: 0.8378 - val_loss: 0.4910 - val_accuracy: 0.8277\n",
      "Epoch 9/40\n",
      "30/30 [==============================] - 0s 15ms/step - loss: 0.4480 - accuracy: 0.8563 - val_loss: 0.4512 - val_accuracy: 0.8405\n",
      "Epoch 10/40\n",
      "30/30 [==============================] - 0s 16ms/step - loss: 0.4079 - accuracy: 0.8691 - val_loss: 0.4191 - val_accuracy: 0.8479\n",
      "Epoch 11/40\n",
      "30/30 [==============================] - 0s 17ms/step - loss: 0.3737 - accuracy: 0.8787 - val_loss: 0.3924 - val_accuracy: 0.8562\n",
      "Epoch 12/40\n",
      "30/30 [==============================] - 0s 17ms/step - loss: 0.3447 - accuracy: 0.8866 - val_loss: 0.3711 - val_accuracy: 0.8621\n",
      "Epoch 13/40\n",
      "30/30 [==============================] - 0s 16ms/step - loss: 0.3203 - accuracy: 0.8928 - val_loss: 0.3548 - val_accuracy: 0.8660\n",
      "Epoch 14/40\n",
      "30/30 [==============================] - 0s 16ms/step - loss: 0.2998 - accuracy: 0.8985 - val_loss: 0.3406 - val_accuracy: 0.8706\n",
      "Epoch 15/40\n",
      "30/30 [==============================] - 0s 17ms/step - loss: 0.2818 - accuracy: 0.9053 - val_loss: 0.3292 - val_accuracy: 0.8719\n",
      "Epoch 16/40\n",
      "30/30 [==============================] - 0s 16ms/step - loss: 0.2659 - accuracy: 0.9077 - val_loss: 0.3197 - val_accuracy: 0.8757\n",
      "Epoch 17/40\n",
      "30/30 [==============================] - 0s 16ms/step - loss: 0.2517 - accuracy: 0.9144 - val_loss: 0.3124 - val_accuracy: 0.8777\n",
      "Epoch 18/40\n",
      "30/30 [==============================] - 0s 16ms/step - loss: 0.2390 - accuracy: 0.9185 - val_loss: 0.3060 - val_accuracy: 0.8792\n",
      "Epoch 19/40\n",
      "30/30 [==============================] - 0s 16ms/step - loss: 0.2275 - accuracy: 0.9213 - val_loss: 0.3010 - val_accuracy: 0.8802\n",
      "Epoch 20/40\n",
      "30/30 [==============================] - 0s 16ms/step - loss: 0.2167 - accuracy: 0.9247 - val_loss: 0.2971 - val_accuracy: 0.8822\n",
      "Epoch 21/40\n",
      "30/30 [==============================] - 0s 16ms/step - loss: 0.2068 - accuracy: 0.9301 - val_loss: 0.2941 - val_accuracy: 0.8826\n",
      "Epoch 22/40\n",
      "30/30 [==============================] - 0s 16ms/step - loss: 0.1980 - accuracy: 0.9328 - val_loss: 0.2905 - val_accuracy: 0.8835\n",
      "Epoch 23/40\n",
      "30/30 [==============================] - 0s 15ms/step - loss: 0.1895 - accuracy: 0.9365 - val_loss: 0.2885 - val_accuracy: 0.8839\n",
      "Epoch 24/40\n",
      "30/30 [==============================] - 0s 16ms/step - loss: 0.1813 - accuracy: 0.9405 - val_loss: 0.2869 - val_accuracy: 0.8843\n",
      "Epoch 25/40\n",
      "30/30 [==============================] - 1s 17ms/step - loss: 0.1737 - accuracy: 0.9440 - val_loss: 0.2861 - val_accuracy: 0.8843\n",
      "Epoch 26/40\n",
      "30/30 [==============================] - 1s 17ms/step - loss: 0.1671 - accuracy: 0.9458 - val_loss: 0.2855 - val_accuracy: 0.8846\n",
      "Epoch 27/40\n",
      "30/30 [==============================] - 0s 15ms/step - loss: 0.1599 - accuracy: 0.9491 - val_loss: 0.2853 - val_accuracy: 0.8855\n",
      "Epoch 28/40\n",
      "30/30 [==============================] - 0s 16ms/step - loss: 0.1541 - accuracy: 0.9521 - val_loss: 0.2852 - val_accuracy: 0.8851\n",
      "Epoch 29/40\n",
      "30/30 [==============================] - 1s 18ms/step - loss: 0.1478 - accuracy: 0.9552 - val_loss: 0.2855 - val_accuracy: 0.8860\n",
      "Epoch 30/40\n",
      "30/30 [==============================] - 1s 18ms/step - loss: 0.1422 - accuracy: 0.9575 - val_loss: 0.2868 - val_accuracy: 0.8853\n",
      "Epoch 31/40\n",
      "30/30 [==============================] - 0s 17ms/step - loss: 0.1368 - accuracy: 0.9591 - val_loss: 0.2872 - val_accuracy: 0.8856\n",
      "Epoch 32/40\n",
      "30/30 [==============================] - 0s 16ms/step - loss: 0.1315 - accuracy: 0.9618 - val_loss: 0.2888 - val_accuracy: 0.8863\n",
      "Epoch 33/40\n",
      "30/30 [==============================] - 1s 18ms/step - loss: 0.1266 - accuracy: 0.9639 - val_loss: 0.2900 - val_accuracy: 0.8861\n",
      "Epoch 34/40\n",
      "30/30 [==============================] - 1s 19ms/step - loss: 0.1222 - accuracy: 0.9647 - val_loss: 0.2922 - val_accuracy: 0.8854\n",
      "Epoch 35/40\n",
      "30/30 [==============================] - 1s 18ms/step - loss: 0.1176 - accuracy: 0.9669 - val_loss: 0.2945 - val_accuracy: 0.8831\n",
      "Epoch 36/40\n",
      "30/30 [==============================] - 1s 17ms/step - loss: 0.1133 - accuracy: 0.9688 - val_loss: 0.2963 - val_accuracy: 0.8844\n",
      "Epoch 37/40\n",
      "30/30 [==============================] - 1s 18ms/step - loss: 0.1092 - accuracy: 0.9697 - val_loss: 0.2985 - val_accuracy: 0.8843\n",
      "Epoch 38/40\n",
      "30/30 [==============================] - 1s 19ms/step - loss: 0.1048 - accuracy: 0.9714 - val_loss: 0.3007 - val_accuracy: 0.8839\n",
      "Epoch 39/40\n",
      "30/30 [==============================] - 1s 18ms/step - loss: 0.1010 - accuracy: 0.9730 - val_loss: 0.3045 - val_accuracy: 0.8835\n",
      "Epoch 40/40\n",
      "30/30 [==============================] - 1s 19ms/step - loss: 0.0977 - accuracy: 0.9738 - val_loss: 0.3063 - val_accuracy: 0.8826\n"
     ]
    }
   ],
   "source": [
    "history = model.fit(partial_x_train,\n",
    "                   partial_y_train,\n",
    "                   epochs = 40,\n",
    "                   batch_size = 512,\n",
    "                   validation_data = (x_val, y_val),\n",
    "                   verbose = 1)"
   ]
  },
  {
   "cell_type": "markdown",
   "metadata": {},
   "source": [
    "### 모델 평가\n",
    "손실과 정확도 반환"
   ]
  },
  {
   "cell_type": "code",
   "execution_count": 27,
   "metadata": {},
   "outputs": [
    {
     "name": "stdout",
     "output_type": "stream",
     "text": [
      "782/782 [==============================] - 1s 828us/step - loss: 0.3261 - accuracy: 0.8730\n",
      "[0.32612812519073486, 0.8729599714279175]\n"
     ]
    }
   ],
   "source": [
    "results = model.evaluate(test_data, test_labels)\n",
    "print(results) #87%정도의 정확도 달성"
   ]
  },
  {
   "cell_type": "markdown",
   "metadata": {},
   "source": [
    "*이 부분은 추가!*\n",
    "### 정확도와 손실 그래프 그리기"
   ]
  },
  {
   "cell_type": "code",
   "execution_count": 28,
   "metadata": {},
   "outputs": [
    {
     "data": {
      "text/plain": [
       "dict_keys(['loss', 'accuracy', 'val_loss', 'val_accuracy'])"
      ]
     },
     "execution_count": 28,
     "metadata": {},
     "output_type": "execute_result"
    }
   ],
   "source": [
    "history_dict = history.history\n",
    "history_dict.keys()"
   ]
  },
  {
   "cell_type": "code",
   "execution_count": 29,
   "metadata": {},
   "outputs": [],
   "source": [
    "import matplotlib.pyplot as plt"
   ]
  },
  {
   "cell_type": "code",
   "execution_count": 30,
   "metadata": {},
   "outputs": [
    {
     "data": {
      "image/png": "[encoded data removed]",
      "text/plain": [
       "<Figure size 432x288 with 1 Axes>"
      ]
     },
     "metadata": {
      "needs_background": "light"
     },
     "output_type": "display_data"
    }
   ],
   "source": [
    "acc = history_dict['accuracy']\n",
    "val_acc = history_dict['val_accuracy']\n",
    "loss = history_dict['loss']\n",
    "val_loss = history_dict['val_loss']\n",
    "\n",
    "epochs = range(1, len(acc) + 1)\n",
    "\n",
    "# bo : 파란색 점\n",
    "plt.plot(epochs, loss, 'bo', label='Training loss')\n",
    "# b : 파란 실선\n",
    "plt.plot(epochs, val_loss, 'b', label='Validation loss')\n",
    "plt.title('Training and validation loss')\n",
    "plt.xlabel('Epochs')\n",
    "plt.ylabel('Loss')\n",
    "plt.legend()\n",
    "\n",
    "plt.show()"
   ]
  },
  {
   "cell_type": "code",
   "execution_count": 31,
   "metadata": {},
   "outputs": [
    {
     "data": {
      "image/png": "[encoded data removed]",
      "text/plain": [
       "<Figure size 432x288 with 1 Axes>"
      ]
     },
     "metadata": {
      "needs_background": "light"
     },
     "output_type": "display_data"
    }
   ],
   "source": [
    "plt.clf()   # 그림을 초기화\n",
    "\n",
    "plt.plot(epochs, acc, 'bo', label='Training acc')\n",
    "plt.plot(epochs, val_acc, 'b', label='Validation acc')\n",
    "plt.title('Training and validation accuracy')\n",
    "plt.xlabel('Epochs')\n",
    "plt.ylabel('Accuracy')\n",
    "plt.legend()\n",
    "\n",
    "plt.show()"
   ]
  },
  {
   "cell_type": "markdown",
   "metadata": {},
   "source": [
    "훈련 손실은 에포크마다 감소하고 훈련 정확도는 증가한다.\n",
    "- Validation loss 와 Validation accuracy는 20번째 에포크 이후가 최적점 => 이게 과대적합 떄문이다.=> 막기 위해선 20번째에서 에포크 멈추면 됨."
   ]
  }
 ],
 "metadata": {
  "kernelspec": {
   "display_name": "Python 3",
   "language": "python",
   "name": "python3"
  },
  "language_info": {
   "codemirror_mode": {
    "name": "ipython",
    "version": 3
   },
   "file_extension": ".py",
   "mimetype": "text/x-python",
   "name": "python",
   "nbconvert_exporter": "python",
   "pygments_lexer": "ipython3",
   "version": "3.8.5"
  }
 },
 "nbformat": 4,
 "nbformat_minor": 4
}
