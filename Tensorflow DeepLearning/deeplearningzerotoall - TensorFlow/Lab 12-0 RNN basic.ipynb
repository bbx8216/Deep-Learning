{
 "cells": [
  {
   "cell_type": "markdown",
   "metadata": {},
   "source": [
    "# 모두를 위한 딥러닝 시즌2 - TensorFlow\n",
    "\n",
    "## LAB 12 - 0 RNN basic"
   ]
  },
  {
   "cell_type": "code",
   "execution_count": 3,
   "metadata": {},
   "outputs": [
    {
     "name": "stdout",
     "output_type": "stream",
     "text": [
      "2.5.0\n"
     ]
    }
   ],
   "source": [
    "import numpy as np\n",
    "import tensorflow as tf\n",
    "from tensorflow import keras\n",
    "from tensorflow.keras import layers\n",
    "from tensorflow.keras import Sequential, Model\n",
    "\n",
    "print(tf.__version__)\n",
    "tf.compat.v1.enable_eager_execution()"
   ]
  },
  {
   "cell_type": "code",
   "execution_count": 4,
   "metadata": {},
   "outputs": [],
   "source": [
    "#one hot encoding\n",
    "h = [1, 0, 0, 0]\n",
    "e = [0, 1, 0, 0]\n",
    "l = [0, 0, 1, 0]\n",
    "o = [0, 0, 0, 1]"
   ]
  },
  {
   "cell_type": "code",
   "execution_count": 6,
   "metadata": {},
   "outputs": [
    {
     "name": "stdout",
     "output_type": "stream",
     "text": [
      "x_data: [[[1. 0. 0. 0.]]], shape: (1, 1, 4)\n",
      "outputs: [[[ 0.7390763  -0.36100665]]], shape: (1, 1, 2)\n",
      "states: [[ 0.7390763  -0.36100665]], shape: (1, 2)\n"
     ]
    }
   ],
   "source": [
    "x_data = np.array([[h]], dtype=np.float32)\n",
    "\n",
    "hidden_size = 2\n",
    "#특정 셀을 선언하고 이를 loop\n",
    "cell = layers.SimpleRNNCell(units=hidden_size)\n",
    "rnn = layers.RNN(cell, return_sequences=True, return_state=True)\n",
    "outputs, states = rnn(x_data)\n",
    "\n",
    "#shape 값 잘 확인하기\n",
    "print('x_data: {}, shape: {}'.format(x_data, x_data.shape))\n",
    "print('outputs: {}, shape: {}'.format(outputs, outputs.shape))\n",
    "print('states: {}, shape: {}'.format(states, states.shape))"
   ]
  },
  {
   "cell_type": "code",
   "execution_count": 7,
   "metadata": {},
   "outputs": [
    {
     "name": "stdout",
     "output_type": "stream",
     "text": [
      "x_data: [[[1. 0. 0. 0.]]], shape: (1, 1, 4)\n",
      "outputs: [[[-0.05069483  0.05460737]]], shape: (1, 1, 2)\n",
      "states: [[-0.05069483  0.05460737]], shape: (1, 2)\n"
     ]
    }
   ],
   "source": [
    "#위 두가지를 결합해 놓은 api 사용\n",
    "rnn = layers.SimpleRNN(units=hidden_size, return_sequences=True, return_state=True)\n",
    "outputs, states = rnn(x_data)\n",
    "\n",
    "print('x_data: {}, shape: {}'.format(x_data, x_data.shape))\n",
    "print('outputs: {}, shape: {}'.format(outputs, outputs.shape))\n",
    "print('states: {}, shape: {}'.format(states, states.shape))"
   ]
  },
  {
   "cell_type": "code",
   "execution_count": 8,
   "metadata": {},
   "outputs": [
    {
     "name": "stdout",
     "output_type": "stream",
     "text": [
      "x_data: [[[1. 0. 0. 0.]\n",
      "  [0. 1. 0. 0.]\n",
      "  [0. 0. 1. 0.]\n",
      "  [0. 0. 1. 0.]\n",
      "  [0. 0. 0. 1.]]], shape: (1, 5, 4) \n",
      "\n",
      "outputs: [[[ 0.64205337 -0.60207236]\n",
      "  [-0.40485123 -0.5271144 ]\n",
      "  [ 0.7643618  -0.17918245]\n",
      "  [ 0.15369034  0.5993915 ]\n",
      "  [ 0.6612312  -0.22361602]]], shape: (1, 5, 2) \n",
      "\n",
      "states: [[ 0.6612312  -0.22361602]], shape: (1, 2)\n"
     ]
    }
   ],
   "source": [
    "x_data = np.array([[h, e, l, l, o]], dtype=np.float32)\n",
    "#각각의 알파벳에 해당하는 원핫 벡터를 기반으로 시퀀스를 만들고 이를 rnn이 처리할 수 있도록 전처리\n",
    "hidden_size = 2\n",
    "rnn = layers.SimpleRNN(units=2, return_sequences=True, return_state=True)    \n",
    "outputs, states = rnn(x_data)\n",
    "\n",
    "print('x_data: {}, shape: {} \\n'.format(x_data, x_data.shape))\n",
    "print('outputs: {}, shape: {} \\n'.format(outputs, outputs.shape))\n",
    "print('states: {}, shape: {}'.format(states, states.shape))"
   ]
  },
  {
   "cell_type": "markdown",
   "metadata": {},
   "source": [
    "### Batching Input"
   ]
  },
  {
   "cell_type": "code",
   "execution_count": 9,
   "metadata": {
    "scrolled": true
   },
   "outputs": [
    {
     "name": "stdout",
     "output_type": "stream",
     "text": [
      "x_data: [[[1. 0. 0. 0.]\n",
      "  [0. 1. 0. 0.]\n",
      "  [0. 0. 1. 0.]\n",
      "  [0. 0. 1. 0.]\n",
      "  [0. 0. 0. 1.]]\n",
      "\n",
      " [[0. 1. 0. 0.]\n",
      "  [0. 0. 0. 1.]\n",
      "  [0. 0. 1. 0.]\n",
      "  [0. 0. 1. 0.]\n",
      "  [0. 0. 1. 0.]]\n",
      "\n",
      " [[0. 0. 1. 0.]\n",
      "  [0. 0. 1. 0.]\n",
      "  [0. 1. 0. 0.]\n",
      "  [0. 1. 0. 0.]\n",
      "  [0. 0. 1. 0.]]], shape: (3, 5, 4) \n",
      "\n",
      "outputs: [[[ 0.5109438   0.6131393 ]\n",
      "  [ 0.8794135  -0.60768795]\n",
      "  [-0.50782496 -0.07837684]\n",
      "  [ 0.24852128  0.8221704 ]\n",
      "  [ 0.63233584 -0.23692994]]\n",
      "\n",
      " [[ 0.70813584 -0.07490122]\n",
      "  [-0.22535372 -0.46112406]\n",
      "  [-0.1785148   0.7484225 ]\n",
      "  [ 0.75784135  0.5817032 ]\n",
      "  [ 0.556736   -0.21082743]]\n",
      "\n",
      " [[ 0.21827236  0.57209957]\n",
      "  [ 0.6255398   0.3050802 ]\n",
      "  [ 0.7809256  -0.6359473 ]\n",
      "  [ 0.09495998 -0.605614  ]\n",
      "  [-0.3714229   0.5962693 ]]], shape: (3, 5, 2) \n",
      "\n",
      "states: [[ 0.63233584 -0.23692994]\n",
      " [ 0.556736   -0.21082743]\n",
      " [-0.3714229   0.5962693 ]], shape: (3, 2)\n"
     ]
    }
   ],
   "source": [
    "x_data = np.array([[h, e, l, l, o],\n",
    "                   [e, o, l, l, l],\n",
    "                   [l, l, e, e, l]], dtype=np.float32)\n",
    "#미니배치 만들고\n",
    "\n",
    "hidden_size = 2\n",
    "rnn = layers.SimpleRNN(units=2, return_sequences=True, return_state=True)    \n",
    "outputs, states = rnn(x_data)\n",
    "\n",
    "print('x_data: {}, shape: {} \\n'.format(x_data, x_data.shape))\n",
    "print('outputs: {}, shape: {} \\n'.format(outputs, outputs.shape))\n",
    "print('states: {}, shape: {}'.format(states, states.shape))"
   ]
  },
  {
   "cell_type": "code",
   "execution_count": null,
   "metadata": {},
   "outputs": [],
   "source": []
  }
 ],
 "metadata": {
  "kernelspec": {
   "display_name": "Python 3",
   "language": "python",
   "name": "python3"
  },
  "language_info": {
   "codemirror_mode": {
    "name": "ipython",
    "version": 3
   },
   "file_extension": ".py",
   "mimetype": "text/x-python",
   "name": "python",
   "nbconvert_exporter": "python",
   "pygments_lexer": "ipython3",
   "version": "3.8.5"
  }
 },
 "nbformat": 4,
 "nbformat_minor": 4
}
